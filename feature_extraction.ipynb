{
 "cells": [
  {
   "cell_type": "markdown",
   "id": "6b12c3be",
   "metadata": {},
   "source": [
    "# Load modules"
   ]
  },
  {
   "cell_type": "code",
   "execution_count": 1,
   "id": "e81d050d",
   "metadata": {},
   "outputs": [],
   "source": [
    "import numpy as np\n",
    "import pandas as pd\n",
    "\n",
    "import datetime\n",
    "import matplotlib.pyplot as plt\n",
    "import seaborn as sns\n",
    "import os\n",
    "\n",
    "%matplotlib notebook"
   ]
  },
  {
   "cell_type": "markdown",
   "id": "bdc5de7e",
   "metadata": {},
   "source": [
    "# Load data"
   ]
  },
  {
   "cell_type": "code",
   "execution_count": 2,
   "id": "50b86ae3",
   "metadata": {},
   "outputs": [],
   "source": [
    "data = np.load(os.path.join('data', 'preprocessed', 'preprocessed_dataset_1.npz'), allow_pickle = True)\n",
    "\n",
    "#training dataset \n",
    "x_train = data['x_train']\n",
    "y_train = data['y_train']\n",
    "idx_train = data['idx_train']\n",
    "\n",
    "#test dataset \n",
    "x_test = data['x_test']\n",
    "idx_test = data['idx_test']\n"
   ]
  },
  {
   "cell_type": "markdown",
   "id": "46b798bb",
   "metadata": {},
   "source": [
    "# Do feature extraction magic"
   ]
  },
  {
   "cell_type": "code",
   "execution_count": 3,
   "id": "b5e4546e",
   "metadata": {},
   "outputs": [],
   "source": [
    "# TBD"
   ]
  },
  {
   "cell_type": "markdown",
   "id": "09a20fc4",
   "metadata": {},
   "source": [
    "# Save feature extracted dataset"
   ]
  },
  {
   "cell_type": "code",
   "execution_count": null,
   "id": "646b4595",
   "metadata": {},
   "outputs": [],
   "source": [
    "#Save\n",
    "np.savez(os.path.join('data', 'feature_extracted', 'feature_extracted_dataset_1'), \n",
    "         x_train =x_train,\n",
    "         y_train = y_train,\n",
    "         idx_train = idx_train,\n",
    "         x_test = x_test,\n",
    "         idx_test = idx_test)"
   ]
  }
 ],
 "metadata": {
  "kernelspec": {
   "display_name": "Python 3 (ipykernel)",
   "language": "python",
   "name": "python3"
  },
  "language_info": {
   "codemirror_mode": {
    "name": "ipython",
    "version": 3
   },
   "file_extension": ".py",
   "mimetype": "text/x-python",
   "name": "python",
   "nbconvert_exporter": "python",
   "pygments_lexer": "ipython3",
   "version": "3.9.7"
  }
 },
 "nbformat": 4,
 "nbformat_minor": 5
}
