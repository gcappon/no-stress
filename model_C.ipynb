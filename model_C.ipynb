{
 "cells": [
  {
   "cell_type": "markdown",
   "id": "6b12c3be",
   "metadata": {},
   "source": [
    "# Load modules"
   ]
  },
  {
   "cell_type": "code",
   "execution_count": 1,
   "id": "e81d050d",
   "metadata": {},
   "outputs": [],
   "source": [
    "import numpy as np\n",
    "from sklearn.naive_bayes import GaussianNB\n",
    "from sklearn.linear_model import LogisticRegressionCV\n",
    "import os\n",
    "import pandas as pd\n"
   ]
  },
  {
   "cell_type": "markdown",
   "id": "bdc5de7e",
   "metadata": {},
   "source": [
    "# Load data 3\n",
    "ECG and GSR clean"
   ]
  },
  {
   "cell_type": "code",
   "execution_count": 2,
   "id": "50b86ae3",
   "metadata": {},
   "outputs": [],
   "source": [
    "data = np.load(os.path.join('data', 'feature_extracted', 'feature_extracted_dataset_3.npz'), allow_pickle = True)\n",
    "datasets = data['feature_extracted_dataset'].tolist()\n",
    "ecg_train = datasets.get('ECG_features')[0]\n",
    "ecg_test = datasets.get('ECG_features')[1]\n",
    "gsr_train = datasets.get('GSR_features')[0]\n",
    "gsr_test = datasets.get('GSR_features')[1]\n",
    "idx_train = data['idx_train']\n",
    "idx_test_3 = data['idx_test']\n",
    "y_train = data['y_train']\n",
    "x_train = pd.concat([ecg_train, gsr_train], axis=1)\n",
    "x_test_3 = pd.concat([ecg_test, gsr_test], axis=1)"
   ]
  },
  {
   "cell_type": "markdown",
   "id": "a397d37b",
   "metadata": {},
   "source": [
    "# Feature selection"
   ]
  },
  {
   "cell_type": "code",
   "execution_count": 3,
   "id": "1a310a5d",
   "metadata": {},
   "outputs": [],
   "source": [
    "from sklearn.feature_selection import SelectKBest\n",
    "from sklearn.feature_selection import f_classif\n",
    "# define feature selection\n",
    "fs = SelectKBest(score_func=f_classif, k='all')\n",
    "# apply feature selection\n",
    "fs.fit(x_train, y_train)\n",
    "mask_3 = fs.pvalues_<0.05\n",
    "selected = x_train.loc[:,mask_3]\n",
    "# selected = fs.transform(x_train)\n",
    "# mask_3 = fs.get_support()"
   ]
  },
  {
   "cell_type": "markdown",
   "id": "4c97fc1e",
   "metadata": {},
   "source": [
    "# Model building"
   ]
  },
  {
   "cell_type": "code",
   "execution_count": 4,
   "id": "51cb74dd",
   "metadata": {},
   "outputs": [
    {
     "name": "stderr",
     "output_type": "stream",
     "text": [
      "/Users/luca/Documents/Machine Learning/no-stress/env/lib/python3.10/site-packages/sklearn/linear_model/_logistic.py:444: ConvergenceWarning: lbfgs failed to converge (status=1):\n",
      "STOP: TOTAL NO. of ITERATIONS REACHED LIMIT.\n",
      "\n",
      "Increase the number of iterations (max_iter) or scale the data as shown in:\n",
      "    https://scikit-learn.org/stable/modules/preprocessing.html\n",
      "Please also refer to the documentation for alternative solver options:\n",
      "    https://scikit-learn.org/stable/modules/linear_model.html#logistic-regression\n",
      "  n_iter_i = _check_optimize_result(\n",
      "/Users/luca/Documents/Machine Learning/no-stress/env/lib/python3.10/site-packages/sklearn/linear_model/_logistic.py:444: ConvergenceWarning: lbfgs failed to converge (status=1):\n",
      "STOP: TOTAL NO. of ITERATIONS REACHED LIMIT.\n",
      "\n",
      "Increase the number of iterations (max_iter) or scale the data as shown in:\n",
      "    https://scikit-learn.org/stable/modules/preprocessing.html\n",
      "Please also refer to the documentation for alternative solver options:\n",
      "    https://scikit-learn.org/stable/modules/linear_model.html#logistic-regression\n",
      "  n_iter_i = _check_optimize_result(\n",
      "/Users/luca/Documents/Machine Learning/no-stress/env/lib/python3.10/site-packages/sklearn/linear_model/_logistic.py:444: ConvergenceWarning: lbfgs failed to converge (status=1):\n",
      "STOP: TOTAL NO. of ITERATIONS REACHED LIMIT.\n",
      "\n",
      "Increase the number of iterations (max_iter) or scale the data as shown in:\n",
      "    https://scikit-learn.org/stable/modules/preprocessing.html\n",
      "Please also refer to the documentation for alternative solver options:\n",
      "    https://scikit-learn.org/stable/modules/linear_model.html#logistic-regression\n",
      "  n_iter_i = _check_optimize_result(\n",
      "/Users/luca/Documents/Machine Learning/no-stress/env/lib/python3.10/site-packages/sklearn/linear_model/_logistic.py:444: ConvergenceWarning: lbfgs failed to converge (status=1):\n",
      "STOP: TOTAL NO. of ITERATIONS REACHED LIMIT.\n",
      "\n",
      "Increase the number of iterations (max_iter) or scale the data as shown in:\n",
      "    https://scikit-learn.org/stable/modules/preprocessing.html\n",
      "Please also refer to the documentation for alternative solver options:\n",
      "    https://scikit-learn.org/stable/modules/linear_model.html#logistic-regression\n",
      "  n_iter_i = _check_optimize_result(\n",
      "/Users/luca/Documents/Machine Learning/no-stress/env/lib/python3.10/site-packages/sklearn/linear_model/_logistic.py:444: ConvergenceWarning: lbfgs failed to converge (status=1):\n",
      "STOP: TOTAL NO. of ITERATIONS REACHED LIMIT.\n",
      "\n",
      "Increase the number of iterations (max_iter) or scale the data as shown in:\n",
      "    https://scikit-learn.org/stable/modules/preprocessing.html\n",
      "Please also refer to the documentation for alternative solver options:\n",
      "    https://scikit-learn.org/stable/modules/linear_model.html#logistic-regression\n",
      "  n_iter_i = _check_optimize_result(\n"
     ]
    },
    {
     "name": "stdout",
     "output_type": "stream",
     "text": [
      "Accuracy: 64.607%\n"
     ]
    }
   ],
   "source": [
    "# define the model\n",
    "modelML_3 = LogisticRegressionCV()\n",
    "# fit the model\n",
    "modelML_3.fit(selected, y_train)\n",
    "\n",
    "result = modelML_3.score(selected, y_train)\n",
    "print(\"Accuracy: %.3f%%\" % (result*100.0))"
   ]
  },
  {
   "cell_type": "markdown",
   "id": "d514d4bb",
   "metadata": {},
   "source": [
    "# Load data 4\n",
    "ECG clean"
   ]
  },
  {
   "cell_type": "code",
   "execution_count": 5,
   "id": "dd2465ba",
   "metadata": {},
   "outputs": [],
   "source": [
    "data = np.load(os.path.join('data', 'feature_extracted', 'feature_extracted_dataset_4.npz'), allow_pickle = True)\n",
    "datasets = data['feature_extracted_dataset'].tolist()\n",
    "ecg_train = datasets.get('ECG_features')[0]\n",
    "ecg_test = datasets.get('ECG_features')[1]\n",
    "idx_train = data['idx_train']\n",
    "idx_test_4 = data['idx_test']\n",
    "y_train = data['y_train']\n",
    "x_train = ecg_train\n",
    "x_test_4 = ecg_test"
   ]
  },
  {
   "cell_type": "code",
   "execution_count": 6,
   "id": "65a7e18c",
   "metadata": {},
   "outputs": [],
   "source": [
    "fs = SelectKBest(score_func=f_classif, k='all')\n",
    "# apply feature selection\n",
    "fs.fit(x_train, y_train)\n",
    "# selected = fs.transform(x_train)\n",
    "# mask_4 = fs.get_support()\n",
    "mask_4 = fs.pvalues_ < 0.05\n",
    "selected = x_train.loc[:,mask_4]"
   ]
  },
  {
   "cell_type": "code",
   "execution_count": 7,
   "id": "e270b25d",
   "metadata": {},
   "outputs": [
    {
     "name": "stderr",
     "output_type": "stream",
     "text": [
      "/Users/luca/Documents/Machine Learning/no-stress/env/lib/python3.10/site-packages/sklearn/linear_model/_logistic.py:444: ConvergenceWarning: lbfgs failed to converge (status=1):\n",
      "STOP: TOTAL NO. of ITERATIONS REACHED LIMIT.\n",
      "\n",
      "Increase the number of iterations (max_iter) or scale the data as shown in:\n",
      "    https://scikit-learn.org/stable/modules/preprocessing.html\n",
      "Please also refer to the documentation for alternative solver options:\n",
      "    https://scikit-learn.org/stable/modules/linear_model.html#logistic-regression\n",
      "  n_iter_i = _check_optimize_result(\n",
      "/Users/luca/Documents/Machine Learning/no-stress/env/lib/python3.10/site-packages/sklearn/linear_model/_logistic.py:444: ConvergenceWarning: lbfgs failed to converge (status=1):\n",
      "STOP: TOTAL NO. of ITERATIONS REACHED LIMIT.\n",
      "\n",
      "Increase the number of iterations (max_iter) or scale the data as shown in:\n",
      "    https://scikit-learn.org/stable/modules/preprocessing.html\n",
      "Please also refer to the documentation for alternative solver options:\n",
      "    https://scikit-learn.org/stable/modules/linear_model.html#logistic-regression\n",
      "  n_iter_i = _check_optimize_result(\n",
      "/Users/luca/Documents/Machine Learning/no-stress/env/lib/python3.10/site-packages/sklearn/linear_model/_logistic.py:444: ConvergenceWarning: lbfgs failed to converge (status=1):\n",
      "STOP: TOTAL NO. of ITERATIONS REACHED LIMIT.\n",
      "\n",
      "Increase the number of iterations (max_iter) or scale the data as shown in:\n",
      "    https://scikit-learn.org/stable/modules/preprocessing.html\n",
      "Please also refer to the documentation for alternative solver options:\n",
      "    https://scikit-learn.org/stable/modules/linear_model.html#logistic-regression\n",
      "  n_iter_i = _check_optimize_result(\n",
      "/Users/luca/Documents/Machine Learning/no-stress/env/lib/python3.10/site-packages/sklearn/linear_model/_logistic.py:444: ConvergenceWarning: lbfgs failed to converge (status=1):\n",
      "STOP: TOTAL NO. of ITERATIONS REACHED LIMIT.\n",
      "\n",
      "Increase the number of iterations (max_iter) or scale the data as shown in:\n",
      "    https://scikit-learn.org/stable/modules/preprocessing.html\n",
      "Please also refer to the documentation for alternative solver options:\n",
      "    https://scikit-learn.org/stable/modules/linear_model.html#logistic-regression\n",
      "  n_iter_i = _check_optimize_result(\n"
     ]
    },
    {
     "name": "stdout",
     "output_type": "stream",
     "text": [
      "Accuracy: 61.521%\n"
     ]
    },
    {
     "name": "stderr",
     "output_type": "stream",
     "text": [
      "/Users/luca/Documents/Machine Learning/no-stress/env/lib/python3.10/site-packages/sklearn/linear_model/_logistic.py:444: ConvergenceWarning: lbfgs failed to converge (status=1):\n",
      "STOP: TOTAL NO. of ITERATIONS REACHED LIMIT.\n",
      "\n",
      "Increase the number of iterations (max_iter) or scale the data as shown in:\n",
      "    https://scikit-learn.org/stable/modules/preprocessing.html\n",
      "Please also refer to the documentation for alternative solver options:\n",
      "    https://scikit-learn.org/stable/modules/linear_model.html#logistic-regression\n",
      "  n_iter_i = _check_optimize_result(\n"
     ]
    }
   ],
   "source": [
    "# define the model\n",
    "modelML_4 = LogisticRegressionCV()\n",
    "# fit the model\n",
    "modelML_4.fit(selected, y_train)\n",
    "\n",
    "result = modelML_4.score(selected, y_train)\n",
    "print(\"Accuracy: %.3f%%\" % (result*100.0))"
   ]
  },
  {
   "cell_type": "markdown",
   "id": "93e43465",
   "metadata": {},
   "source": [
    "# Dataset 5\n",
    "GSR clean"
   ]
  },
  {
   "cell_type": "code",
   "execution_count": 8,
   "id": "d59860bc",
   "metadata": {},
   "outputs": [],
   "source": [
    "data = np.load(os.path.join('data', 'feature_extracted', 'feature_extracted_dataset_5.npz'), allow_pickle = True)\n",
    "datasets = data['feature_extracted_dataset'].tolist()\n",
    "gsr_train = datasets.get('GSR_features')[0]\n",
    "gsr_test = datasets.get('GSR_features')[1]\n",
    "idx_train = data['idx_train']\n",
    "idx_test_5 = data['idx_test']\n",
    "y_train = data['y_train']\n",
    "x_train = gsr_train\n",
    "x_test_5 = gsr_test"
   ]
  },
  {
   "cell_type": "code",
   "execution_count": 9,
   "id": "d19f0f75",
   "metadata": {},
   "outputs": [],
   "source": [
    "fs = SelectKBest(score_func=f_classif, k='all')\n",
    "\n",
    "# apply feature selection\n",
    "fs.fit(x_train, y_train)\n",
    "# selected = fs.transform(x_train)\n",
    "# mask_5 = fs.get_support()\n",
    "mask_5 = fs.pvalues_ <  0.05\n",
    "selected = x_train.loc[:,mask_5]"
   ]
  },
  {
   "cell_type": "code",
   "execution_count": 10,
   "id": "110edbf9",
   "metadata": {},
   "outputs": [
    {
     "name": "stderr",
     "output_type": "stream",
     "text": [
      "/Users/luca/Documents/Machine Learning/no-stress/env/lib/python3.10/site-packages/sklearn/linear_model/_logistic.py:444: ConvergenceWarning: lbfgs failed to converge (status=1):\n",
      "STOP: TOTAL NO. of ITERATIONS REACHED LIMIT.\n",
      "\n",
      "Increase the number of iterations (max_iter) or scale the data as shown in:\n",
      "    https://scikit-learn.org/stable/modules/preprocessing.html\n",
      "Please also refer to the documentation for alternative solver options:\n",
      "    https://scikit-learn.org/stable/modules/linear_model.html#logistic-regression\n",
      "  n_iter_i = _check_optimize_result(\n",
      "/Users/luca/Documents/Machine Learning/no-stress/env/lib/python3.10/site-packages/sklearn/linear_model/_logistic.py:444: ConvergenceWarning: lbfgs failed to converge (status=1):\n",
      "STOP: TOTAL NO. of ITERATIONS REACHED LIMIT.\n",
      "\n",
      "Increase the number of iterations (max_iter) or scale the data as shown in:\n",
      "    https://scikit-learn.org/stable/modules/preprocessing.html\n",
      "Please also refer to the documentation for alternative solver options:\n",
      "    https://scikit-learn.org/stable/modules/linear_model.html#logistic-regression\n",
      "  n_iter_i = _check_optimize_result(\n",
      "/Users/luca/Documents/Machine Learning/no-stress/env/lib/python3.10/site-packages/sklearn/linear_model/_logistic.py:444: ConvergenceWarning: lbfgs failed to converge (status=1):\n",
      "STOP: TOTAL NO. of ITERATIONS REACHED LIMIT.\n",
      "\n",
      "Increase the number of iterations (max_iter) or scale the data as shown in:\n",
      "    https://scikit-learn.org/stable/modules/preprocessing.html\n",
      "Please also refer to the documentation for alternative solver options:\n",
      "    https://scikit-learn.org/stable/modules/linear_model.html#logistic-regression\n",
      "  n_iter_i = _check_optimize_result(\n",
      "/Users/luca/Documents/Machine Learning/no-stress/env/lib/python3.10/site-packages/sklearn/linear_model/_logistic.py:444: ConvergenceWarning: lbfgs failed to converge (status=1):\n",
      "STOP: TOTAL NO. of ITERATIONS REACHED LIMIT.\n",
      "\n",
      "Increase the number of iterations (max_iter) or scale the data as shown in:\n",
      "    https://scikit-learn.org/stable/modules/preprocessing.html\n",
      "Please also refer to the documentation for alternative solver options:\n",
      "    https://scikit-learn.org/stable/modules/linear_model.html#logistic-regression\n",
      "  n_iter_i = _check_optimize_result(\n"
     ]
    },
    {
     "name": "stdout",
     "output_type": "stream",
     "text": [
      "Accuracy: 63.731%\n"
     ]
    },
    {
     "name": "stderr",
     "output_type": "stream",
     "text": [
      "/Users/luca/Documents/Machine Learning/no-stress/env/lib/python3.10/site-packages/sklearn/linear_model/_logistic.py:444: ConvergenceWarning: lbfgs failed to converge (status=1):\n",
      "STOP: TOTAL NO. of ITERATIONS REACHED LIMIT.\n",
      "\n",
      "Increase the number of iterations (max_iter) or scale the data as shown in:\n",
      "    https://scikit-learn.org/stable/modules/preprocessing.html\n",
      "Please also refer to the documentation for alternative solver options:\n",
      "    https://scikit-learn.org/stable/modules/linear_model.html#logistic-regression\n",
      "  n_iter_i = _check_optimize_result(\n"
     ]
    }
   ],
   "source": [
    "# define the model\n",
    "modelML_5 = LogisticRegressionCV()\n",
    "# fit the model\n",
    "modelML_5.fit(selected, y_train)\n",
    "\n",
    "result = modelML_5.score(selected, y_train)\n",
    "print(\"Accuracy: %.3f%%\" % (result*100.0))"
   ]
  },
  {
   "cell_type": "markdown",
   "id": "7974d29c",
   "metadata": {},
   "source": [
    "# Predict"
   ]
  },
  {
   "cell_type": "code",
   "execution_count": 11,
   "id": "8f877e5a",
   "metadata": {},
   "outputs": [
    {
     "name": "stdout",
     "output_type": "stream",
     "text": [
      "228\n",
      "234\n",
      "235\n",
      "932\n",
      "933\n",
      "5\n"
     ]
    }
   ],
   "source": [
    "import warnings\n",
    "warnings.filterwarnings('ignore')\n",
    "predicted = np.empty(986)\n",
    "gsronly = list(set(idx_test_5)-set(idx_test_3))\n",
    "ecgonly = list(set(idx_test_4)-set(idx_test_3))\n",
    "\n",
    "j = 0\n",
    "k = 0\n",
    "l = 0\n",
    "nan = 0\n",
    "for i in range(986):\n",
    "    if(i in gsronly):\n",
    "        x_test_masked = x_test_5.values[j, mask_5]\n",
    "        predicted[i] = modelML_5.predict(\n",
    "            x_test_masked.reshape(-1, len(x_test_masked)))\n",
    "        j += 1\n",
    "    elif(i in ecgonly):\n",
    "        x_test_masked = x_test_4.values[k, mask_4]\n",
    "        predicted[i] = modelML_4.predict(\n",
    "            x_test_masked.reshape(-1, len(x_test_masked)))\n",
    "        k += 1\n",
    "    elif(i in idx_test_3):\n",
    "        x_test_masked = x_test_3.values[l, mask_3]\n",
    "        predicted[i] = modelML_3.predict(\n",
    "            x_test_masked.reshape(-1, len(x_test_masked)))\n",
    "        l += 1\n",
    "    else:\n",
    "        predicted[i] = 1\n",
    "        nan += 1\n",
    "        print(i)\n",
    "\n",
    "print(nan)\n"
   ]
  },
  {
   "cell_type": "code",
   "execution_count": 13,
   "id": "a2384b61",
   "metadata": {},
   "outputs": [
    {
     "name": "stdout",
     "output_type": "stream",
     "text": [
      "zip created\n"
     ]
    }
   ],
   "source": [
    "np.savetxt(os.path.join('submission','modelC', 'answer.txt'),predicted,fmt='%1i')\n",
    "\n",
    "from zipfile import ZipFile\n",
    "# create a ZipFile object\n",
    "zipObj = ZipFile(os.path.join('submission','modelC', 'answer.zip'), 'w')\n",
    "# Add multiple files to the zip\n",
    "zipObj.write(os.path.join('submission','modelC', 'answer.txt'), arcname='answer.txt')\n",
    "# close the Zip File\n",
    "zipObj.close()\n",
    "\n",
    "print('zip created')"
   ]
  }
 ],
 "metadata": {
  "interpreter": {
   "hash": "02ed20ca32e85c58ac17d6c1a94427bbb9ae10306c3e0caf395fb5182c7ec815"
  },
  "kernelspec": {
   "display_name": "Python 3.10.4 ('env': venv)",
   "language": "python",
   "name": "python3"
  },
  "language_info": {
   "codemirror_mode": {
    "name": "ipython",
    "version": 3
   },
   "file_extension": ".py",
   "mimetype": "text/x-python",
   "name": "python",
   "nbconvert_exporter": "python",
   "pygments_lexer": "ipython3",
   "version": "3.10.4"
  }
 },
 "nbformat": 4,
 "nbformat_minor": 5
}
