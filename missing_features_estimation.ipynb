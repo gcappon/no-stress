{
 "cells": [
  {
   "cell_type": "markdown",
   "metadata": {},
   "source": [
    "# Estimate gaussian mixture parameters\n",
    "This notebook estimates the gaussian mixture parameters to fill the missing hand crafted features of the original dataset"
   ]
  },
  {
   "cell_type": "markdown",
   "metadata": {},
   "source": [
    "# Load data"
   ]
  },
  {
   "cell_type": "code",
   "execution_count": 1,
   "metadata": {},
   "outputs": [],
   "source": [
    "import numpy as np\n",
    "import os\n",
    "\n",
    "data = np.load(os.path.join('data', 'preprocessed', 'preprocessed_dataset_4.npz'), allow_pickle = True)\n",
    "\n",
    "#training dataset \n",
    "train = data['x_train']\n",
    "idx_train = dict()\n",
    "idx_test = dict()\n",
    "idx_train['ECG_mask'] = data['idx_train']\n",
    "idx_test['ECG_mask'] = data['idx_test']\n",
    "data_ecg = train.tolist()['ECG_features']"
   ]
  },
  {
   "cell_type": "markdown",
   "metadata": {},
   "source": [
    "# Gaussian mixture estimation for ECG features"
   ]
  },
  {
   "cell_type": "code",
   "execution_count": 2,
   "metadata": {
    "scrolled": false
   },
   "outputs": [],
   "source": [
    "import matplotlib.pyplot as plt\n",
    "from sklearn import mixture\n",
    "import warnings\n",
    "warnings.filterwarnings('ignore')\n",
    "\n",
    "c_m = []\n",
    "w_m = []\n",
    "m_m = []\n",
    "for i in range(data_ecg.shape[2]):#feature\n",
    "    m = []\n",
    "    w = []\n",
    "    c = []\n",
    "    for j in range(data_ecg.shape[0]):#label\n",
    "        clf = mixture.GaussianMixture(n_components=4, covariance_type=\"full\")\n",
    "        clf.fit(data_ecg[j,:,i].reshape(-1, 1));\n",
    "        # print('mean'+ str(clf.means_.reshape(-1,1)));\n",
    "        # print('cov' + str(clf.covariances_.reshape(-1,1)));\n",
    "        # print('w'+ str(clf.weights_.reshape(-1,1)));\n",
    "        sortint=np.argsort(clf.weights_)\n",
    "        m.append([clf.means_[i] for i in sortint ])\n",
    "        w.append([clf.weights_[i] for i in sortint ])\n",
    "        c.append([clf.covariances_[i] for i in sortint ])\n",
    "        # s = clf.sample(60)[0]\n",
    "        \n",
    "        \n",
    "        # plt.plot(data_ecg[j,:,i])\n",
    "        # plt.plot(s)\n",
    "        # plt.legend(['data', 'sample'])\n",
    "        # plt.show()\n",
    "    c_m.append(np.mean(c, axis=0))\n",
    "    w_m.append(np.mean(w, axis=0))\n",
    "    m_m.append(np.mean(m, axis=0))\n",
    "\n",
    "    # clf_m = mixture.GaussianMixture(n_components=len(c_m[i]), covariance_type=\"full\")\n",
    "    # clf_m.weights_ = w_m[i]\n",
    "    # clf_m.covariances_ = c_m[i]\n",
    "    # clf_m.means_ = m_m[i]\n",
    "    # s = clf.sample(60)[0]\n",
    "    # plt.plot(s)\n",
    "    # plt.show()\n",
    "\n",
    "    "
   ]
  },
  {
   "cell_type": "code",
   "execution_count": 3,
   "metadata": {},
   "outputs": [],
   "source": [
    "features_mixture = dict()\n",
    "features_mixture['ECG_mixture'] = dict()\n",
    "features_mixture['ECG_mixture']['mean'] = m_m\n",
    "features_mixture['ECG_mixture']['weight'] = w_m\n",
    "features_mixture['ECG_mixture']['covariance'] = c_m"
   ]
  },
  {
   "cell_type": "markdown",
   "metadata": {},
   "source": [
    "# Load data for GSR"
   ]
  },
  {
   "cell_type": "code",
   "execution_count": 4,
   "metadata": {},
   "outputs": [],
   "source": [
    "data = np.load(os.path.join('data', 'preprocessed', 'preprocessed_dataset_5.npz'), allow_pickle = True)\n",
    "\n",
    "#training dataset \n",
    "train = data['x_train']\n",
    "idx_train['GSR_mask'] = data['idx_train']\n",
    "idx_test['GSR_mask'] = data['idx_test']\n",
    "data_gsr = train.tolist()['GSR_features']"
   ]
  },
  {
   "cell_type": "markdown",
   "metadata": {},
   "source": [
    "# Gaussian mixture estimation for GSR feature"
   ]
  },
  {
   "cell_type": "code",
   "execution_count": 5,
   "metadata": {},
   "outputs": [],
   "source": [
    "import matplotlib.pyplot as plt\n",
    "from sklearn import mixture\n",
    "\n",
    "c_m = []\n",
    "w_m = []\n",
    "m_m = []\n",
    "for i in range(data_gsr.shape[2]):#feature\n",
    "    m = []\n",
    "    w = []\n",
    "    c = []\n",
    "    for j in range(data_gsr.shape[0]):#label\n",
    "        clf = mixture.GaussianMixture(n_components=4, covariance_type=\"full\")\n",
    "        clf.fit(data_gsr[j,:,i].reshape(-1, 1));\n",
    "        # print('mean'+ str(clf.means_.reshape(-1,1)));\n",
    "        # print('cov' + str(clf.covariances_.reshape(-1,1)));\n",
    "        # print('w'+ str(clf.weights_.reshape(-1,1)));\n",
    "        sortint=np.argsort(clf.weights_)\n",
    "        m.append([clf.means_[i] for i in sortint ])\n",
    "        w.append([clf.weights_[i] for i in sortint ])\n",
    "        c.append([clf.covariances_[i] for i in sortint ])\n",
    "        # s = clf.sample(60)[0]\n",
    "        \n",
    "        \n",
    "        # plt.plot(data_ecg[j,:,i])\n",
    "        # plt.plot(s)\n",
    "        # plt.legend(['data', 'sample'])\n",
    "        # plt.show()\n",
    "    c_m.append(np.mean(c, axis=0))\n",
    "    w_m.append(np.mean(w, axis=0))\n",
    "    m_m.append(np.mean(m, axis=0))\n",
    "\n",
    "    # clf_m = mixture.GaussianMixture(n_components=len(c_m[i]), covariance_type=\"full\")\n",
    "    # clf_m.weights_ = w_m[i]\n",
    "    # clf_m.covariances_ = c_m[i]\n",
    "    # clf_m.means_ = m_m[i]\n",
    "    # s = clf.sample(60)[0]\n",
    "    # plt.plot(s)\n",
    "    # plt.show()\n",
    "    "
   ]
  },
  {
   "cell_type": "code",
   "execution_count": 6,
   "metadata": {},
   "outputs": [],
   "source": [
    "features_mixture['GSR_mixture'] = dict()\n",
    "features_mixture['GSR_mixture']['mean'] = m_m\n",
    "features_mixture['GSR_mixture']['weight'] = w_m\n",
    "features_mixture['GSR_mixture']['covariance'] = c_m"
   ]
  },
  {
   "cell_type": "code",
   "execution_count": 7,
   "metadata": {},
   "outputs": [],
   "source": [
    "np.savez(os.path.join('data', 'filled', 'estimators'), \n",
    "         idx_train = idx_train,\n",
    "         idx_test = idx_test,\n",
    "         features_mixture = features_mixture)"
   ]
  }
 ],
 "metadata": {
  "interpreter": {
   "hash": "02ed20ca32e85c58ac17d6c1a94427bbb9ae10306c3e0caf395fb5182c7ec815"
  },
  "kernelspec": {
   "display_name": "Python 3 (ipykernel)",
   "language": "python",
   "name": "python3"
  },
  "language_info": {
   "codemirror_mode": {
    "name": "ipython",
    "version": 3
   },
   "file_extension": ".py",
   "mimetype": "text/x-python",
   "name": "python",
   "nbconvert_exporter": "python",
   "pygments_lexer": "ipython3",
   "version": "3.10.4"
  }
 },
 "nbformat": 4,
 "nbformat_minor": 2
}
