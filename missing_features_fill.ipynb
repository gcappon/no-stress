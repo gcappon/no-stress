{
 "cells": [
  {
   "cell_type": "markdown",
   "metadata": {},
   "source": [
    "# Missing features filling\n",
    "This notebook fills the missing handcrafted features both in test and training"
   ]
  },
  {
   "cell_type": "markdown",
   "metadata": {},
   "source": [
    "# Load estimators"
   ]
  },
  {
   "cell_type": "code",
   "execution_count": 9,
   "metadata": {},
   "outputs": [],
   "source": [
    "import numpy as np\n",
    "import os\n",
    "estimators = np.load(os.path.join('data', 'filled', 'estimators.npz'), allow_pickle=True)\n",
    "features_mixture = estimators['features_mixture']"
   ]
  },
  {
   "cell_type": "markdown",
   "metadata": {},
   "source": [
    "# Train"
   ]
  },
  {
   "cell_type": "markdown",
   "metadata": {},
   "source": [
    "### Load data"
   ]
  },
  {
   "cell_type": "code",
   "execution_count": 10,
   "metadata": {},
   "outputs": [],
   "source": [
    "idx_train = estimators['idx_train']\n",
    "\n",
    "data = np.load(os.path.join('data','original', 'dataset_smile_challenge.npy'), allow_pickle = True).item()\n",
    "\n",
    "#training dataset \n",
    "train = data['train']\n",
    "handcrafted_features_train = train['hand_crafted_features'] # for hand-crafted features {'ECG_features', 'GSR_features'}.\n",
    "gsr = handcrafted_features_train['GSR_features']\n",
    "ecg = handcrafted_features_train['ECG_features']"
   ]
  },
  {
   "cell_type": "markdown",
   "metadata": {},
   "source": [
    "### ECG features"
   ]
  },
  {
   "cell_type": "code",
   "execution_count": 11,
   "metadata": {},
   "outputs": [],
   "source": [
    "from sklearn.mixture import GaussianMixture\n",
    "ecg_mix = features_mixture.tolist()['ECG_mixture']\n",
    "ecg_mask = idx_train.tolist()['ECG_mask']\n",
    "for f in range(ecg.shape[2]):\n",
    "    clf_m = GaussianMixture(n_components=len(ecg_mix['mean'][f]), covariance_type=\"full\")\n",
    "    clf_m.weights_ = ecg_mix['weight'][f]\n",
    "    clf_m.covariances_ = ecg_mix['covariance'][f]\n",
    "    clf_m.means_ = ecg_mix['mean'][f]\n",
    "    for l in [x for x in range(ecg.shape[0]) if x not in ecg_mask]:\n",
    "         ecg[l,:,f] = clf_m.sample(60)[0].reshape(60)\n"
   ]
  },
  {
   "cell_type": "markdown",
   "metadata": {},
   "source": [
    "### GSR features"
   ]
  },
  {
   "cell_type": "code",
   "execution_count": 12,
   "metadata": {},
   "outputs": [],
   "source": [
    "gsr_mix = features_mixture.tolist()['GSR_mixture']\n",
    "gsr_mask = idx_train.tolist()['GSR_mask']\n",
    "for f in range(gsr.shape[2]):\n",
    "    clf_m = GaussianMixture(n_components=len(gsr_mix['mean'][f]), covariance_type=\"full\")\n",
    "    clf_m.weights_ = gsr_mix['weight'][f]\n",
    "    clf_m.covariances_ = gsr_mix['covariance'][f]\n",
    "    clf_m.means_ = gsr_mix['mean'][f]\n",
    "    for l in [x for x in range(gsr.shape[0]) if x not in gsr_mask]:\n",
    "         gsr[l,:,f] = clf_m.sample(60)[0].reshape(60)"
   ]
  },
  {
   "cell_type": "markdown",
   "metadata": {},
   "source": [
    "### Save"
   ]
  },
  {
   "cell_type": "code",
   "execution_count": 13,
   "metadata": {},
   "outputs": [],
   "source": [
    "handcrafted_features_train['GSR_features'] = gsr\n",
    "handcrafted_features_train['ECG_features'] = ecg\n",
    "x_train = handcrafted_features_train\n",
    "threshold = 1\n",
    "y_train = [0 if i < threshold else 1 for i in train['labels']]"
   ]
  },
  {
   "cell_type": "markdown",
   "metadata": {},
   "source": [
    "# Test"
   ]
  },
  {
   "cell_type": "code",
   "execution_count": 14,
   "metadata": {},
   "outputs": [],
   "source": [
    "idx_test = estimators['idx_test']\n",
    "test = data['test']\n",
    "handcrafted_features_test = test['hand_crafted_features'] # for hand-crafted features {'ECG_features', 'GSR_features'}.\n",
    "gsr = handcrafted_features_test['GSR_features']\n",
    "ecg = handcrafted_features_test['ECG_features']"
   ]
  },
  {
   "cell_type": "markdown",
   "metadata": {},
   "source": [
    "### ECG features"
   ]
  },
  {
   "cell_type": "code",
   "execution_count": 15,
   "metadata": {},
   "outputs": [],
   "source": [
    "ecg_mask = idx_test.tolist()['ECG_mask']\n",
    "for f in range(ecg.shape[2]):\n",
    "    clf_m = GaussianMixture(n_components=len(ecg_mix['mean'][f]), covariance_type=\"full\")\n",
    "    clf_m.weights_ = ecg_mix['weight'][f]\n",
    "    clf_m.covariances_ = ecg_mix['covariance'][f]\n",
    "    clf_m.means_ = ecg_mix['mean'][f]\n",
    "    for l in [x for x in range(ecg.shape[0]) if x not in ecg_mask]:\n",
    "         ecg[l,:,f] = clf_m.sample(60)[0].reshape(60)"
   ]
  },
  {
   "cell_type": "markdown",
   "metadata": {},
   "source": [
    "### GSR features"
   ]
  },
  {
   "cell_type": "code",
   "execution_count": 16,
   "metadata": {},
   "outputs": [],
   "source": [
    "gsr_mix = features_mixture.tolist()['GSR_mixture']\n",
    "gsr_mask = idx_train.tolist()['GSR_mask']\n",
    "for f in range(gsr.shape[2]):\n",
    "    clf_m = GaussianMixture(n_components=len(gsr_mix['mean'][f]), covariance_type=\"full\")\n",
    "    clf_m.weights_ = gsr_mix['weight'][f]\n",
    "    clf_m.covariances_ = gsr_mix['covariance'][f]\n",
    "    clf_m.means_ = gsr_mix['mean'][f]\n",
    "    for l in [x for x in range(gsr.shape[0]) if x not in gsr_mask]:\n",
    "         gsr[l,:,f] = clf_m.sample(60)[0].reshape(60)"
   ]
  },
  {
   "cell_type": "markdown",
   "metadata": {},
   "source": [
    "### Save"
   ]
  },
  {
   "cell_type": "code",
   "execution_count": 17,
   "metadata": {},
   "outputs": [],
   "source": [
    "handcrafted_features_test['GSR_features'] = gsr\n",
    "handcrafted_features_test['ECG_features'] = ecg\n",
    "x_test = handcrafted_features_test"
   ]
  },
  {
   "cell_type": "markdown",
   "metadata": {},
   "source": [
    "# Save dataset"
   ]
  },
  {
   "cell_type": "code",
   "execution_count": 18,
   "metadata": {},
   "outputs": [],
   "source": [
    "np.savez(os.path.join('data', 'filled', 'filled_dataset'), \n",
    "         x_train = x_train,\n",
    "         y_train = y_train,\n",
    "         x_test = x_test)"
   ]
  }
 ],
 "metadata": {
  "interpreter": {
   "hash": "02ed20ca32e85c58ac17d6c1a94427bbb9ae10306c3e0caf395fb5182c7ec815"
  },
  "kernelspec": {
   "display_name": "Python 3.10.4 ('env': venv)",
   "language": "python",
   "name": "python3"
  },
  "language_info": {
   "codemirror_mode": {
    "name": "ipython",
    "version": 3
   },
   "file_extension": ".py",
   "mimetype": "text/x-python",
   "name": "python",
   "nbconvert_exporter": "python",
   "pygments_lexer": "ipython3",
   "version": "3.10.4"
  },
  "orig_nbformat": 4
 },
 "nbformat": 4,
 "nbformat_minor": 2
}
